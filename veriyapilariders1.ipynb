{
  "nbformat": 4,
  "nbformat_minor": 0,
  "metadata": {
    "colab": {
      "provenance": []
    },
    "kernelspec": {
      "name": "python3",
      "display_name": "Python 3"
    },
    "language_info": {
      "name": "python"
    }
  },
  "cells": [
    {
      "cell_type": "markdown",
      "source": [
        "Kodlamada dosya ismi rakamla başlamamalı."
      ],
      "metadata": {
        "id": "3k9DfYTadrRl"
      }
    },
    {
      "cell_type": "markdown",
      "source": [
        "# Python programlama dilinde print komutu ekrandan kullanıcııya bilgi veren bir koddur.\n",
        "\n",
        "06.08.2024 - Veri Yapıları ve Algoritmalar dersi ilk kodlama çıktısıdır.\n",
        "İSTKA SİBER AKADEMİ MERKEZİ"
      ],
      "metadata": {
        "id": "--h1ovEtdzYE"
      }
    },
    {
      "cell_type": "code",
      "execution_count": 1,
      "metadata": {
        "colab": {
          "base_uri": "https://localhost:8080/"
        },
        "id": "4KgoGZXUc1KJ",
        "outputId": "f0b9e35b-9ab5-4961-86e1-fe67ec4ef73d"
      },
      "outputs": [
        {
          "output_type": "stream",
          "name": "stdout",
          "text": [
            "Merhaba, İGÜ - İSTKA!\n"
          ]
        }
      ],
      "source": [
        "print(\"Merhaba, İGÜ - İSTKA!\") # print ekrana çıktı veren bir koddur."
      ]
    },
    {
      "cell_type": "code",
      "source": [
        "import sys # import Python programlama dilinde kütüphane eklemeye yarayan bir kod bloğudur.\n",
        "print(sys.version) # Kodlama yaparken ilk bakılması gereken yer kullanılan kullanılan programlama dilinin sürümüdür."
      ],
      "metadata": {
        "colab": {
          "base_uri": "https://localhost:8080/"
        },
        "id": "QjykVbVcc8O7",
        "outputId": "eeb1a885-01c7-4b7c-b0d9-1ff02e94bde2"
      },
      "execution_count": 2,
      "outputs": [
        {
          "output_type": "stream",
          "name": "stdout",
          "text": [
            "3.10.12 (main, Jul 29 2024, 16:56:48) [GCC 11.4.0]\n"
          ]
        }
      ]
    },
    {
      "cell_type": "code",
      "source": [
        "from google.colab import drive # google colab - drive bağlantısını sağlar. Her ders öncesi gün başlarken bu işlemi yapmamız gerekir.\n",
        "drive.mount('/content/drive')"
      ],
      "metadata": {
        "colab": {
          "base_uri": "https://localhost:8080/"
        },
        "id": "LyPff298c_5c",
        "outputId": "f805eccb-737f-4521-a253-492df52ff07e"
      },
      "execution_count": 3,
      "outputs": [
        {
          "output_type": "stream",
          "name": "stdout",
          "text": [
            "Mounted at /content/drive\n"
          ]
        }
      ]
    },
    {
      "cell_type": "code",
      "source": [
        "import os\n",
        "os.chdir('/content/drive/My Drive/VERIYAPILARI_ISTKA')\n",
        "!pwd\n",
        "# bize kodun çıktısını dosya yolu olarak veren kod blogudur. !! önemli"
      ],
      "metadata": {
        "colab": {
          "base_uri": "https://localhost:8080/"
        },
        "id": "F4s42D3RdHV_",
        "outputId": "6a3e626d-90d9-4ab7-9bfa-f8bb355b3196"
      },
      "execution_count": 6,
      "outputs": [
        {
          "output_type": "stream",
          "name": "stdout",
          "text": [
            "/content/drive/My Drive/VERIYAPILARI_ISTKA\n"
          ]
        }
      ]
    }
  ]
}